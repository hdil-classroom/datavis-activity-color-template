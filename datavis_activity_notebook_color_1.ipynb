{
  "nbformat": 4,
  "nbformat_minor": 0,
  "metadata": {
    "colab": {
      "provenance": [],
      "authorship_tag": "ABX9TyOrr+7ZCrEbL0XDtD5nY+Oo"
    },
    "kernelspec": {
      "name": "python3",
      "display_name": "Python 3"
    },
    "language_info": {
      "name": "python"
    }
  },
  "cells": [
    {
      "cell_type": "code",
      "execution_count": null,
      "metadata": {
        "id": "7KRuv5HRSrB9"
      },
      "outputs": [],
      "source": [
        "#@title Load data.\n",
        "import altair as alt\n",
        "import pandas as pd\n",
        "\n",
        "data_url = \"https://raw.githubusercontent.com/hdil-classroom/datavis-activity-color-template/refs/heads/main/datavis-activity-subway_daily.csv\"\n",
        "df = pd.read_csv(data_url, index_col=False)\n",
        "df.head()"
      ]
    },
    {
      "cell_type": "code",
      "source": [
        "#@title Transforms data.\n",
        "filtered_df = df[df['사용일자'] == 20241201][:20]"
      ],
      "metadata": {
        "id": "PzFv6BWcTJqd"
      },
      "execution_count": null,
      "outputs": []
    },
    {
      "cell_type": "code",
      "source": [
        "#@title Draw a bar chart.\n",
        "bar_chart = alt.Chart(filtered_df).mark_bar().encode(\n",
        "    x=\"승차총승객수:Q\", # Q: Quantitative\n",
        "    y=\"역명:N\", # N: Nominal = Categorical\n",
        "\n",
        ")\n",
        "\n",
        "bar_chart.display()"
      ],
      "metadata": {
        "id": "EDmfWumrTTlX"
      },
      "execution_count": null,
      "outputs": []
    },
    {
      "cell_type": "code",
      "source": [
        "#@title Draw a bar chart with a different syntax.\n",
        "bar_chart = alt.Chart(filtered_df).mark_bar().encode(\n",
        "    x=alt.X(\"승차총승객수:Q\"),\n",
        "    y=alt.Y(\"역명:N\"),\n",
        ")\n",
        "\n",
        "bar_chart.display()"
      ],
      "metadata": {
        "id": "AM-fsnSfUh5r"
      },
      "execution_count": null,
      "outputs": []
    },
    {
      "cell_type": "code",
      "source": [
        "#@title Draw a scatterplot.\n",
        "scatterplot = alt.Chart(filtered_df).mark_circle().encode(\n",
        "    x=\"승차총승객수:Q\",\n",
        "    y=\"하차총승객수:Q\",\n",
        "\n",
        ")\n",
        "\n",
        "scatterplot.display()"
      ],
      "metadata": {
        "id": "4DRE-ESYT3Fu"
      },
      "execution_count": null,
      "outputs": []
    },
    {
      "cell_type": "code",
      "source": [
        "#@title Draw a scatterplot with a specific color scheme.\n",
        "scatterplot_2 = alt.Chart(filtered_df).mark_circle().encode(\n",
        "    x=\"승차총승객수:Q\",\n",
        "    y=\"하차총승객수:Q\",\n",
        "    # color=alt.Color(..., scale=...),\n",
        ")\n",
        "\n",
        "scatterplot_2.display()"
      ],
      "metadata": {
        "id": "tmbRF_gFT-2q"
      },
      "execution_count": null,
      "outputs": []
    },
    {
      "cell_type": "code",
      "source": [
        "#@title Draw a scatterplot with another specific color scheme.\n",
        "scatterplot_3 = alt.Chart(filtered_df).mark_circle().encode(\n",
        "    x=\"승차총승객수:Q\",\n",
        "    y=\"하차총승객수:Q\",\n",
        "    # color=alt.Color(..., scale=alt.Scale(\n",
        "    #\n",
        "    # )),\n",
        ")\n",
        "\n",
        "scatterplot_3.display()"
      ],
      "metadata": {
        "id": "Ww13MU3JULcb"
      },
      "execution_count": null,
      "outputs": []
    }
  ]
}