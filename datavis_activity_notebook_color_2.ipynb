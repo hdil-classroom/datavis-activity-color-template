{
  "nbformat": 4,
  "nbformat_minor": 0,
  "metadata": {
    "colab": {
      "provenance": [],
      "authorship_tag": "ABX9TyO+G88TmjNMJLXAiS/NUrO9"
    },
    "kernelspec": {
      "name": "python3",
      "display_name": "Python 3"
    },
    "language_info": {
      "name": "python"
    }
  },
  "cells": [
    {
      "cell_type": "code",
      "execution_count": null,
      "metadata": {
        "id": "7KRuv5HRSrB9"
      },
      "outputs": [],
      "source": [
        "#@title Load data.\n",
        "import altair as alt\n",
        "import pandas as pd\n",
        "\n",
        "data_url = \"https://raw.githubusercontent.com/hdil-classroom/datavis-activity-color-template/refs/heads/main/datavis-activity-stocks.csv\"\n",
        "df = pd.read_csv(data_url, index_col=False)\n",
        "df.head()"
      ]
    },
    {
      "cell_type": "code",
      "source": [
        "#@title Draw a line chart.\n",
        "line_chart = alt.Chart(df).mark_line().encode(\n",
        "    x=alt.X(\"연월:T\", axis=alt.Axis(format=\"%Y/%m\")),\n",
        "    y=\"종가:Q\",\n",
        "    color=alt.Color(\n",
        "        \"종목명:N\",\n",
        "    )\n",
        ")\n",
        "\n",
        "line_chart.display()"
      ],
      "metadata": {
        "id": "EDmfWumrTTlX"
      },
      "execution_count": null,
      "outputs": []
    }
  ]
}