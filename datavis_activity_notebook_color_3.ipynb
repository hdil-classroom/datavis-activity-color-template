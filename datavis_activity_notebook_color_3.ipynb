{
  "nbformat": 4,
  "nbformat_minor": 0,
  "metadata": {
    "colab": {
      "provenance": [],
      "authorship_tag": "ABX9TyMe3rEzubnud2EMTMa2WakF",
      "include_colab_link": true
    },
    "kernelspec": {
      "name": "python3",
      "display_name": "Python 3"
    },
    "language_info": {
      "name": "python"
    }
  },
  "cells": [
    {
      "cell_type": "markdown",
      "metadata": {
        "id": "view-in-github",
        "colab_type": "text"
      },
      "source": [
        "<a href=\"https://colab.research.google.com/github/hdil-classroom/datavis-activity-color-template/blob/main/datavis_activity_notebook_color_3.ipynb\" target=\"_parent\"><img src=\"https://colab.research.google.com/assets/colab-badge.svg\" alt=\"Open In Colab\"/></a>"
      ]
    },
    {
      "cell_type": "code",
      "execution_count": null,
      "metadata": {
        "id": "7KRuv5HRSrB9"
      },
      "outputs": [],
      "source": [
        "#@title Load data.\n",
        "import altair as alt\n",
        "import pandas as pd\n",
        "\n",
        "data_url = \"https://raw.githubusercontent.com/hdil-classroom/datavis-activity-color-template/refs/heads/main/datavis-activity-weather.csv\"\n",
        "df = pd.read_csv(data_url, index_col=False)\n",
        "df.head()"
      ]
    },
    {
      "cell_type": "code",
      "source": [
        "#@title Transforms data.\n",
        "df[\"date\"] = pd.to_datetime(df[\"date\"])\n",
        "df[\"week\"] = df[\"date\"].dt.to_period(\"W\").apply(lambda x: x.start_time)\n",
        "df[\"dayofweek_num\"] = df[\"date\"].dt.weekday\n",
        "df[\"dayofweek\"] = df[\"date\"].dt.day_name()\n",
        "df[\"week_str\"] = df[\"week\"].dt.strftime(\"%Y-%m-%d\")"
      ],
      "metadata": {
        "id": "EDmfWumrTTlX"
      },
      "execution_count": 2,
      "outputs": []
    },
    {
      "cell_type": "code",
      "source": [
        "#@title Specify day of week orders.\n",
        "dayofweek_order = [\"Monday\", \"Tuesday\", \"Wednesday\", \"Thursday\", \"Friday\", \"Saturday\", \"Sunday\"]\n",
        "df[\"dayofweek\"] = pd.Categorical(df[\"dayofweek\"], categories=dayofweek_order, ordered=True)"
      ],
      "metadata": {
        "id": "h7A0vKisXv6J"
      },
      "execution_count": 3,
      "outputs": []
    },
    {
      "cell_type": "code",
      "source": [
        "#@title Draw a calendar heatmap for temperatures.\n",
        "chart_temperature = alt.Chart(df).mark_rect().encode(\n",
        "    x=alt.X(\"week_str:O\", title=\"주\"),\n",
        "    y=alt.Y(\"dayofweek:O\", title=\"요일\", sort=dayofweek_order),\n",
        "    # color=\n",
        "    tooltip=[\n",
        "        alt.Tooltip(\"date:T\", title=\"날짜\"),\n",
        "        alt.Tooltip(\"temperature:Q\", title=\"기온\"),\n",
        "    ]\n",
        ")\n",
        "\n",
        "chart_temperature.display()"
      ],
      "metadata": {
        "id": "KUCM3weiXx9G"
      },
      "execution_count": null,
      "outputs": []
    },
    {
      "cell_type": "code",
      "source": [
        "#@title Draw a calendar heatmap for precipitations.\n",
        "chart_precipitation = alt.Chart(df).mark_rect().encode(\n",
        "    x=alt.X(\"week_str:O\", title=\"주\"),\n",
        "    y=alt.Y(\"dayofweek:O\", title=\"요일\", sort=dayofweek_order),\n",
        "    # color=\n",
        "    tooltip=[\n",
        "        alt.Tooltip(\"date:T\", title=\"날짜\"),\n",
        "        alt.Tooltip(\"precipitation:Q\", title=\"강수량\"),\n",
        "    ]\n",
        ")\n",
        "\n",
        "chart_precipitation.display()"
      ],
      "metadata": {
        "id": "0Nf38n7oY-Ca"
      },
      "execution_count": null,
      "outputs": []
    }
  ]
}